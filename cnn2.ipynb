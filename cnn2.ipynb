{
  "nbformat": 4,
  "nbformat_minor": 0,
  "metadata": {
    "accelerator": "GPU",
    "colab": {
      "name": "cnn2.ipynb",
      "provenance": [],
      "collapsed_sections": []
    },
    "kernelspec": {
      "display_name": "Python 3",
      "name": "python3"
    }
  },
  "cells": [
    {
      "cell_type": "code",
      "metadata": {
        "colab": {
          "base_uri": "https://localhost:8080/"
        },
        "id": "o1Ao9r8pa2-j",
        "outputId": "f7426f36-b439-448b-cc78-39d1c3ea5856"
      },
      "source": [
        "import os\n",
        "import pandas as pd\n",
        "import cv2\n",
        "import numpy as np\n",
        "import tensorflow as tf\n",
        "import matplotlib.pyplot as plt\n",
        "from keras.datasets import fashion_mnist\n",
        "from tensorflow.keras.models import Sequential\n",
        "from tensorflow.keras.layers import Dense, Dropout, Activation, Flatten, BatchNormalization\n",
        "from tensorflow.keras.layers import Conv2D, MaxPool2D\n",
        "from tensorflow.keras.optimizers import Adam\n",
        "from sklearn.model_selection import train_test_split\n",
        "import pickle\n",
        "from tensorflow.keras.callbacks import EarlyStopping\n",
        "from tensorflow.keras.utils import to_categorical\n",
        "from PIL import Image\n",
        "from sklearn.metrics import classification_report , confusion_matrix\n",
        "!pip install visualkeras\n",
        "import visualkeras\n",
        "mnist=tf.keras.datasets.fashion_mnist\n",
        "type(mnist)\n",
        "\n",
        "(x_train, y_train), (x_test, y_test) = fashion_mnist.load_data()\n",
        "print(\"x_train shape:\", x_train.shape, \"y_train shape:\", y_train.shape)\n",
        "print(\"x_test shape:\", x_test.shape, \"y_test shape:\", y_test.shape)\n",
        "\n",
        "\n",
        "#train_images=x_train.reshape(x_train.shape[0],28,28,1)\n",
        "#test_images=x_test.reshape(x_test.shape[0],28,28,1)\n",
        "#label_images=y_train(y_train.reshape(y_train.shape[0],1))\n",
        "#label_test=y_test(y_test.reshape(y_test.shape[0],1))\n",
        "#train_images=train_images/255.0\n",
        "#model=Sequential()\n",
        "#model.add(Conv2D(64 ,(3,3),input_shape= train_images.shape[1:]))\n",
        "#model.add(Activation(\"relu\"))\n",
        "#model.add(MaxPooling2D(pool_size=(2,2)))\n",
        "\n",
        "#model.add(Conv2D(64,(3,3)))\n",
        "#model.add(Activation(\"relu\"))\n",
        "#model.add(MaxPooling2D(pool_size=(2,2)))\n",
        "\n",
        "#model.add(Flatten())\n",
        "#model.add(Dense(64))\n",
        "\n",
        "#model.add(Dense(10))\n",
        "#model.add(Activation('sigmoid'))\n",
        "#model.compile(\n",
        "#loss='sparse_categorical_crossentropy',\n",
        "#optimizer=Adam(lr=0.001),\n",
        "#metrics=['accuracy'])\n",
        "\n",
        "#model.fit(train_images,test_images,batch_size=32,epochs=3)\n",
        "\n",
        "\n"
      ],
      "execution_count": null,
      "outputs": [
        {
          "output_type": "stream",
          "text": [
            "Collecting visualkeras\n",
            "  Downloading https://files.pythonhosted.org/packages/3c/7d/86ba86f710378e753ed690048710bf917b9121b7c6c5f5b07ec5323c4adc/visualkeras-0.0.1-py3-none-any.whl\n",
            "Requirement already satisfied: pillow>=6.2.0 in /usr/local/lib/python3.6/dist-packages (from visualkeras) (7.0.0)\n",
            "Installing collected packages: visualkeras\n",
            "Successfully installed visualkeras-0.0.1\n",
            "Downloading data from https://storage.googleapis.com/tensorflow/tf-keras-datasets/train-labels-idx1-ubyte.gz\n",
            "32768/29515 [=================================] - 0s 0us/step\n",
            "Downloading data from https://storage.googleapis.com/tensorflow/tf-keras-datasets/train-images-idx3-ubyte.gz\n",
            "26427392/26421880 [==============================] - 0s 0us/step\n",
            "Downloading data from https://storage.googleapis.com/tensorflow/tf-keras-datasets/t10k-labels-idx1-ubyte.gz\n",
            "8192/5148 [===============================================] - 0s 0us/step\n",
            "Downloading data from https://storage.googleapis.com/tensorflow/tf-keras-datasets/t10k-images-idx3-ubyte.gz\n",
            "4423680/4422102 [==============================] - 0s 0us/step\n",
            "x_train shape: (60000, 28, 28) y_train shape: (60000,)\n",
            "x_test shape: (10000, 28, 28) y_test shape: (10000,)\n"
          ],
          "name": "stdout"
        }
      ]
    },
    {
      "cell_type": "code",
      "metadata": {
        "id": "DF3St0fHDXY_"
      },
      "source": [
        "y_cat_train = to_categorical(y_train, num_classes= 10)\n",
        "y_cat_test = to_categorical(y_test, num_classes= 10)"
      ],
      "execution_count": null,
      "outputs": []
    },
    {
      "cell_type": "code",
      "metadata": {
        "colab": {
          "base_uri": "https://localhost:8080/"
        },
        "id": "YLqgZR3tETvM",
        "outputId": "34e54ec9-cbc1-40b2-98ad-adacb29cb51f"
      },
      "source": [
        "y_cat_train[0]"
      ],
      "execution_count": null,
      "outputs": [
        {
          "output_type": "execute_result",
          "data": {
            "text/plain": [
              "array([0., 0., 0., 0., 0., 0., 0., 0., 0., 1.], dtype=float32)"
            ]
          },
          "metadata": {
            "tags": []
          },
          "execution_count": 7
        }
      ]
    },
    {
      "cell_type": "code",
      "metadata": {
        "id": "nYTlTvy0Ehbn"
      },
      "source": [
        "#x_train=x_train/255.0\n",
        "#x_test=x_test/255\n",
        "x_train=x_train.astype('float32')/255\n",
        "x_test=x_test.astype('float32')/255"
      ],
      "execution_count": null,
      "outputs": []
    },
    {
      "cell_type": "code",
      "metadata": {
        "id": "OhZCSGt3EsEt"
      },
      "source": [
        "x_train = x_train.reshape(x_train.shape[0], 28, 28, 1)\n",
        "x_test = x_test.reshape(x_test.shape[0], 28, 28, 1)"
      ],
      "execution_count": null,
      "outputs": []
    },
    {
      "cell_type": "code",
      "metadata": {
        "colab": {
          "base_uri": "https://localhost:8080/"
        },
        "id": "fahsLpV-EzU4",
        "outputId": "d5ec9de5-3829-4c75-8825-26ce552fd284"
      },
      "source": [
        "x_train.shape"
      ],
      "execution_count": null,
      "outputs": [
        {
          "output_type": "execute_result",
          "data": {
            "text/plain": [
              "(60000, 28, 28, 1)"
            ]
          },
          "metadata": {
            "tags": []
          },
          "execution_count": 10
        }
      ]
    },
    {
      "cell_type": "code",
      "metadata": {
        "colab": {
          "base_uri": "https://localhost:8080/"
        },
        "id": "wTGJt_90E3Z3",
        "outputId": "b8d96ab4-ffe9-4542-d2b7-18306f232829"
      },
      "source": [
        "x_test.shape"
      ],
      "execution_count": null,
      "outputs": [
        {
          "output_type": "execute_result",
          "data": {
            "text/plain": [
              "(10000, 28, 28, 1)"
            ]
          },
          "metadata": {
            "tags": []
          },
          "execution_count": 11
        }
      ]
    },
    {
      "cell_type": "code",
      "metadata": {
        "id": "HxOmhmh4E7mr"
      },
      "source": [
        "#x_train, x_val, y_cat_train, y_val = train_test_split(x_train, y_cat_train, test_size=0.2, random_state=42)\n"
      ],
      "execution_count": null,
      "outputs": []
    },
    {
      "cell_type": "code",
      "metadata": {
        "id": "cvUHdB4tAs8d"
      },
      "source": [
        "model = Sequential()\n",
        "model.add(BatchNormalization())\n",
        "model.add(Conv2D(filters = 32, kernel_size= (3,3), padding = 'same', input_shape = (28,28,1), activation= 'relu'))\n",
        "model.add(BatchNormalization())\n",
        "model.add(MaxPool2D(pool_size=(2,2)))\n",
        "model.add(Dropout(rate=0.5))\n",
        "\n",
        "model.add(BatchNormalization())\n",
        "model.add(Conv2D(filters = 64, kernel_size= (3,3), padding = 'same', activation= 'relu'))\n",
        "model.add(MaxPool2D(pool_size=(2,2)))\n",
        "model.add(Dropout(rate = 0.35))\n",
        "model.add(BatchNormalization())\n",
        "model.add(Conv2D(filters = 64, kernel_size= (3,3), padding = 'same', activation= 'relu'))\n",
        "model.add(Conv2D(filters = 64, kernel_size= (3,3), padding = 'same',  activation= 'relu'))\n",
        "model.add(Dropout(rate = 0.5))\n",
        "model.add(BatchNormalization())\n",
        "model.add(MaxPool2D(pool_size=(2,2)))\n",
        "model.add(BatchNormalization())\n",
        "model.add(Dropout(rate = 0.5))\n",
        "model.add(Flatten())\n",
        "model.add(Dense(128, activation='relu'))\n",
        "model.add(Dropout(rate = 0.25))\n",
        "model.add(Dense(10, activation='softmax'))\n",
        "\n",
        "#opt = Adam(lr=0.001, beta_1=0.9, beta_2=0.999, epsilon=None, decay=0.0, amsgrad=False)\n",
        "\n",
        "model.compile(optimizer = 'Adam', loss = 'categorical_crossentropy', metrics = ['accuracy'])\n"
      ],
      "execution_count": null,
      "outputs": []
    },
    {
      "cell_type": "code",
      "metadata": {
        "id": "Jktr82n3BTVN"
      },
      "source": [
        "#model.summary()"
      ],
      "execution_count": null,
      "outputs": []
    },
    {
      "cell_type": "code",
      "metadata": {
        "id": "SR4mdvDMBf-8"
      },
      "source": [
        "#visualkeras.layered_view(model)"
      ],
      "execution_count": null,
      "outputs": []
    },
    {
      "cell_type": "code",
      "metadata": {
        "id": "vDnwXHUaCFI5"
      },
      "source": [
        "early_stop=EarlyStopping(monitor='val_loss',mode='min',patience=10)"
      ],
      "execution_count": null,
      "outputs": []
    },
    {
      "cell_type": "code",
      "metadata": {
        "colab": {
          "base_uri": "https://localhost:8080/"
        },
        "id": "qSQsaw75CRpM",
        "outputId": "e1e9cf69-6568-4a6a-a3e9-58e704ff2a84"
      },
      "source": [
        "history=model.fit(x = x_train, y = y_cat_train, batch_size = 64, epochs = 200, validation_data = (x_test, y_cat_test),callbacks=[early_stop])"
      ],
      "execution_count": null,
      "outputs": [
        {
          "output_type": "stream",
          "text": [
            "Epoch 1/200\n",
            "938/938 [==============================] - 13s 6ms/step - loss: 1.1437 - accuracy: 0.6050 - val_loss: 0.5324 - val_accuracy: 0.8045\n",
            "Epoch 2/200\n",
            "938/938 [==============================] - 5s 6ms/step - loss: 0.5212 - accuracy: 0.8016 - val_loss: 0.4017 - val_accuracy: 0.8531\n",
            "Epoch 3/200\n",
            "938/938 [==============================] - 5s 5ms/step - loss: 0.4429 - accuracy: 0.8344 - val_loss: 0.3887 - val_accuracy: 0.8573\n",
            "Epoch 4/200\n",
            "938/938 [==============================] - 5s 5ms/step - loss: 0.3971 - accuracy: 0.8516 - val_loss: 0.3905 - val_accuracy: 0.8505\n",
            "Epoch 5/200\n",
            "938/938 [==============================] - 5s 6ms/step - loss: 0.3711 - accuracy: 0.8639 - val_loss: 0.3160 - val_accuracy: 0.8887\n",
            "Epoch 6/200\n",
            "938/938 [==============================] - 5s 5ms/step - loss: 0.3540 - accuracy: 0.8713 - val_loss: 0.2934 - val_accuracy: 0.8896\n",
            "Epoch 7/200\n",
            "938/938 [==============================] - 5s 5ms/step - loss: 0.3358 - accuracy: 0.8739 - val_loss: 0.2930 - val_accuracy: 0.8912\n",
            "Epoch 8/200\n",
            "938/938 [==============================] - 5s 5ms/step - loss: 0.3295 - accuracy: 0.8778 - val_loss: 0.2762 - val_accuracy: 0.9002\n",
            "Epoch 9/200\n",
            "938/938 [==============================] - 5s 5ms/step - loss: 0.3138 - accuracy: 0.8845 - val_loss: 0.2805 - val_accuracy: 0.8943\n",
            "Epoch 10/200\n",
            "938/938 [==============================] - 5s 5ms/step - loss: 0.3060 - accuracy: 0.8871 - val_loss: 0.2682 - val_accuracy: 0.9009\n",
            "Epoch 11/200\n",
            "938/938 [==============================] - 5s 5ms/step - loss: 0.2981 - accuracy: 0.8908 - val_loss: 0.2631 - val_accuracy: 0.9037\n",
            "Epoch 12/200\n",
            "938/938 [==============================] - 5s 5ms/step - loss: 0.2978 - accuracy: 0.8905 - val_loss: 0.2791 - val_accuracy: 0.8915\n",
            "Epoch 13/200\n",
            "938/938 [==============================] - 5s 5ms/step - loss: 0.2897 - accuracy: 0.8942 - val_loss: 0.2498 - val_accuracy: 0.9094\n",
            "Epoch 14/200\n",
            "938/938 [==============================] - 5s 5ms/step - loss: 0.2867 - accuracy: 0.8954 - val_loss: 0.2479 - val_accuracy: 0.9097\n",
            "Epoch 15/200\n",
            "938/938 [==============================] - 5s 6ms/step - loss: 0.2813 - accuracy: 0.8959 - val_loss: 0.2709 - val_accuracy: 0.8976\n",
            "Epoch 16/200\n",
            "938/938 [==============================] - 5s 5ms/step - loss: 0.2811 - accuracy: 0.8954 - val_loss: 0.2476 - val_accuracy: 0.9088\n",
            "Epoch 17/200\n",
            "938/938 [==============================] - 5s 5ms/step - loss: 0.2742 - accuracy: 0.8993 - val_loss: 0.2426 - val_accuracy: 0.9083\n",
            "Epoch 18/200\n",
            "938/938 [==============================] - 5s 5ms/step - loss: 0.2742 - accuracy: 0.9004 - val_loss: 0.2477 - val_accuracy: 0.9049\n",
            "Epoch 19/200\n",
            "938/938 [==============================] - 5s 5ms/step - loss: 0.2684 - accuracy: 0.9015 - val_loss: 0.2441 - val_accuracy: 0.9087\n",
            "Epoch 20/200\n",
            "938/938 [==============================] - 5s 5ms/step - loss: 0.2697 - accuracy: 0.9000 - val_loss: 0.2454 - val_accuracy: 0.9095\n",
            "Epoch 21/200\n",
            "938/938 [==============================] - 5s 6ms/step - loss: 0.2660 - accuracy: 0.9016 - val_loss: 0.2326 - val_accuracy: 0.9142\n",
            "Epoch 22/200\n",
            "938/938 [==============================] - 5s 5ms/step - loss: 0.2618 - accuracy: 0.9051 - val_loss: 0.2353 - val_accuracy: 0.9154\n",
            "Epoch 23/200\n",
            "938/938 [==============================] - 5s 5ms/step - loss: 0.2565 - accuracy: 0.9056 - val_loss: 0.2387 - val_accuracy: 0.9137\n",
            "Epoch 24/200\n",
            "938/938 [==============================] - 5s 5ms/step - loss: 0.2520 - accuracy: 0.9090 - val_loss: 0.2633 - val_accuracy: 0.8991\n",
            "Epoch 25/200\n",
            "938/938 [==============================] - 5s 6ms/step - loss: 0.2502 - accuracy: 0.9067 - val_loss: 0.2287 - val_accuracy: 0.9173\n",
            "Epoch 26/200\n",
            "938/938 [==============================] - 5s 6ms/step - loss: 0.2508 - accuracy: 0.9084 - val_loss: 0.2474 - val_accuracy: 0.9111\n",
            "Epoch 27/200\n",
            "938/938 [==============================] - 5s 5ms/step - loss: 0.2523 - accuracy: 0.9080 - val_loss: 0.2345 - val_accuracy: 0.9131\n",
            "Epoch 28/200\n",
            "938/938 [==============================] - 5s 5ms/step - loss: 0.2479 - accuracy: 0.9079 - val_loss: 0.2233 - val_accuracy: 0.9189\n",
            "Epoch 29/200\n",
            "938/938 [==============================] - 5s 5ms/step - loss: 0.2476 - accuracy: 0.9088 - val_loss: 0.2298 - val_accuracy: 0.9166\n",
            "Epoch 30/200\n",
            "938/938 [==============================] - 5s 6ms/step - loss: 0.2481 - accuracy: 0.9095 - val_loss: 0.2430 - val_accuracy: 0.9085\n",
            "Epoch 31/200\n",
            "938/938 [==============================] - 5s 5ms/step - loss: 0.2436 - accuracy: 0.9106 - val_loss: 0.2337 - val_accuracy: 0.9127\n",
            "Epoch 32/200\n",
            "938/938 [==============================] - 5s 5ms/step - loss: 0.2413 - accuracy: 0.9109 - val_loss: 0.2171 - val_accuracy: 0.9195\n",
            "Epoch 33/200\n",
            "938/938 [==============================] - 5s 5ms/step - loss: 0.2470 - accuracy: 0.9102 - val_loss: 0.2184 - val_accuracy: 0.9222\n",
            "Epoch 34/200\n",
            "938/938 [==============================] - 5s 5ms/step - loss: 0.2401 - accuracy: 0.9119 - val_loss: 0.2344 - val_accuracy: 0.9116\n",
            "Epoch 35/200\n",
            "938/938 [==============================] - 5s 6ms/step - loss: 0.2388 - accuracy: 0.9103 - val_loss: 0.2306 - val_accuracy: 0.9167\n",
            "Epoch 36/200\n",
            "938/938 [==============================] - 5s 5ms/step - loss: 0.2293 - accuracy: 0.9163 - val_loss: 0.2150 - val_accuracy: 0.9231\n",
            "Epoch 37/200\n",
            "938/938 [==============================] - 5s 5ms/step - loss: 0.2334 - accuracy: 0.9145 - val_loss: 0.2148 - val_accuracy: 0.9204\n",
            "Epoch 38/200\n",
            "938/938 [==============================] - 5s 6ms/step - loss: 0.2295 - accuracy: 0.9158 - val_loss: 0.2153 - val_accuracy: 0.9207\n",
            "Epoch 39/200\n",
            "938/938 [==============================] - 5s 5ms/step - loss: 0.2385 - accuracy: 0.9129 - val_loss: 0.2091 - val_accuracy: 0.9225\n",
            "Epoch 40/200\n",
            "938/938 [==============================] - 5s 5ms/step - loss: 0.2338 - accuracy: 0.9145 - val_loss: 0.2283 - val_accuracy: 0.9145\n",
            "Epoch 41/200\n",
            "938/938 [==============================] - 5s 5ms/step - loss: 0.2335 - accuracy: 0.9134 - val_loss: 0.2076 - val_accuracy: 0.9221\n",
            "Epoch 42/200\n",
            "938/938 [==============================] - 5s 6ms/step - loss: 0.2342 - accuracy: 0.9143 - val_loss: 0.2133 - val_accuracy: 0.9219\n",
            "Epoch 43/200\n",
            "938/938 [==============================] - 5s 6ms/step - loss: 0.2241 - accuracy: 0.9183 - val_loss: 0.2291 - val_accuracy: 0.9162\n",
            "Epoch 44/200\n",
            "938/938 [==============================] - 5s 5ms/step - loss: 0.2265 - accuracy: 0.9160 - val_loss: 0.2273 - val_accuracy: 0.9153\n",
            "Epoch 45/200\n",
            "938/938 [==============================] - 5s 5ms/step - loss: 0.2343 - accuracy: 0.9152 - val_loss: 0.2180 - val_accuracy: 0.9237\n",
            "Epoch 46/200\n",
            "938/938 [==============================] - 5s 6ms/step - loss: 0.2261 - accuracy: 0.9184 - val_loss: 0.2767 - val_accuracy: 0.8963\n",
            "Epoch 47/200\n",
            "938/938 [==============================] - 5s 5ms/step - loss: 0.2252 - accuracy: 0.9182 - val_loss: 0.2216 - val_accuracy: 0.9197\n",
            "Epoch 48/200\n",
            "938/938 [==============================] - 5s 6ms/step - loss: 0.2292 - accuracy: 0.9174 - val_loss: 0.2088 - val_accuracy: 0.9262\n",
            "Epoch 49/200\n",
            "938/938 [==============================] - 5s 6ms/step - loss: 0.2229 - accuracy: 0.9180 - val_loss: 0.2219 - val_accuracy: 0.9194\n",
            "Epoch 50/200\n",
            "938/938 [==============================] - 5s 5ms/step - loss: 0.2216 - accuracy: 0.9155 - val_loss: 0.2207 - val_accuracy: 0.9214\n",
            "Epoch 51/200\n",
            "938/938 [==============================] - 5s 5ms/step - loss: 0.2268 - accuracy: 0.9164 - val_loss: 0.2206 - val_accuracy: 0.9177\n"
          ],
          "name": "stdout"
        }
      ]
    },
    {
      "cell_type": "code",
      "metadata": {
        "id": "q3yKF4m-vMJv",
        "colab": {
          "base_uri": "https://localhost:8080/"
        },
        "outputId": "11e8bb2d-5451-4413-9ff8-30569ad6d5b8"
      },
      "source": [
        "model.save('cnn-model')\n",
        "history.history"
      ],
      "execution_count": null,
      "outputs": [
        {
          "output_type": "stream",
          "text": [
            "INFO:tensorflow:Assets written to: cnn-model/assets\n"
          ],
          "name": "stdout"
        },
        {
          "output_type": "execute_result",
          "data": {
            "text/plain": [
              "{'accuracy': [0.7107666730880737,\n",
              "  0.8119999766349792,\n",
              "  0.8417666554450989,\n",
              "  0.8547166585922241,\n",
              "  0.8650000095367432,\n",
              "  0.8705000281333923,\n",
              "  0.8750166893005371,\n",
              "  0.8791666626930237,\n",
              "  0.8836333155632019,\n",
              "  0.8866833448410034,\n",
              "  0.8884833455085754,\n",
              "  0.8915166854858398,\n",
              "  0.8930500149726868,\n",
              "  0.8955666422843933,\n",
              "  0.8967666625976562,\n",
              "  0.8966666460037231,\n",
              "  0.8982999920845032,\n",
              "  0.9007333517074585,\n",
              "  0.9021833539009094,\n",
              "  0.9021999835968018,\n",
              "  0.9026666879653931,\n",
              "  0.9039000272750854,\n",
              "  0.904449999332428,\n",
              "  0.9072333574295044,\n",
              "  0.9055833220481873,\n",
              "  0.9085999727249146,\n",
              "  0.9079833626747131,\n",
              "  0.9071333408355713,\n",
              "  0.9097999930381775,\n",
              "  0.9087499976158142,\n",
              "  0.9100666642189026,\n",
              "  0.9107333421707153,\n",
              "  0.9101333618164062,\n",
              "  0.9122999906539917,\n",
              "  0.9117666482925415,\n",
              "  0.913433313369751,\n",
              "  0.9130333065986633,\n",
              "  0.9143999814987183,\n",
              "  0.9144999980926514,\n",
              "  0.9139833450317383,\n",
              "  0.912766695022583,\n",
              "  0.9150833487510681,\n",
              "  0.916100025177002,\n",
              "  0.9154000282287598,\n",
              "  0.9160000085830688,\n",
              "  0.9178500175476074,\n",
              "  0.9173166751861572,\n",
              "  0.916616678237915,\n",
              "  0.9175500273704529,\n",
              "  0.9165999889373779,\n",
              "  0.9168000221252441],\n",
              " 'loss': [0.7890413403511047,\n",
              "  0.49897557497024536,\n",
              "  0.42748382687568665,\n",
              "  0.39179980754852295,\n",
              "  0.3673059642314911,\n",
              "  0.35249099135398865,\n",
              "  0.3359849750995636,\n",
              "  0.32805559039115906,\n",
              "  0.31444209814071655,\n",
              "  0.3076530992984772,\n",
              "  0.30161598324775696,\n",
              "  0.2973141372203827,\n",
              "  0.29205790162086487,\n",
              "  0.28782105445861816,\n",
              "  0.2821277379989624,\n",
              "  0.2795238494873047,\n",
              "  0.2774461507797241,\n",
              "  0.2736833691596985,\n",
              "  0.270698219537735,\n",
              "  0.26767536997795105,\n",
              "  0.2649514675140381,\n",
              "  0.2631882131099701,\n",
              "  0.26178276538848877,\n",
              "  0.2563229501247406,\n",
              "  0.25595489144325256,\n",
              "  0.25117939710617065,\n",
              "  0.2537820339202881,\n",
              "  0.25113624334335327,\n",
              "  0.24692678451538086,\n",
              "  0.24962373077869415,\n",
              "  0.24446770548820496,\n",
              "  0.241235613822937,\n",
              "  0.24669182300567627,\n",
              "  0.23882582783699036,\n",
              "  0.23854368925094604,\n",
              "  0.23605960607528687,\n",
              "  0.23725490272045135,\n",
              "  0.23313723504543304,\n",
              "  0.23481130599975586,\n",
              "  0.23615635931491852,\n",
              "  0.2340122014284134,\n",
              "  0.23276828229427338,\n",
              "  0.22711654007434845,\n",
              "  0.2297336608171463,\n",
              "  0.23021294176578522,\n",
              "  0.22750705480575562,\n",
              "  0.2280326932668686,\n",
              "  0.22889573872089386,\n",
              "  0.22337421774864197,\n",
              "  0.22353938221931458,\n",
              "  0.22654303908348083],\n",
              " 'val_accuracy': [0.8044999837875366,\n",
              "  0.8531000018119812,\n",
              "  0.8572999835014343,\n",
              "  0.8504999876022339,\n",
              "  0.888700008392334,\n",
              "  0.8895999789237976,\n",
              "  0.8912000060081482,\n",
              "  0.9002000093460083,\n",
              "  0.8942999839782715,\n",
              "  0.9009000062942505,\n",
              "  0.9036999940872192,\n",
              "  0.8914999961853027,\n",
              "  0.9093999862670898,\n",
              "  0.9096999764442444,\n",
              "  0.897599995136261,\n",
              "  0.9088000059127808,\n",
              "  0.90829998254776,\n",
              "  0.9049000144004822,\n",
              "  0.9086999893188477,\n",
              "  0.909500002861023,\n",
              "  0.9142000079154968,\n",
              "  0.9154000282287598,\n",
              "  0.9136999845504761,\n",
              "  0.8991000056266785,\n",
              "  0.9172999858856201,\n",
              "  0.9110999703407288,\n",
              "  0.913100004196167,\n",
              "  0.9189000129699707,\n",
              "  0.9165999889373779,\n",
              "  0.9085000157356262,\n",
              "  0.9126999974250793,\n",
              "  0.9194999933242798,\n",
              "  0.9222000241279602,\n",
              "  0.9115999937057495,\n",
              "  0.916700005531311,\n",
              "  0.9230999946594238,\n",
              "  0.9204000234603882,\n",
              "  0.9207000136375427,\n",
              "  0.9225000143051147,\n",
              "  0.9144999980926514,\n",
              "  0.9221000075340271,\n",
              "  0.9218999743461609,\n",
              "  0.9161999821662903,\n",
              "  0.9153000116348267,\n",
              "  0.9236999750137329,\n",
              "  0.8963000178337097,\n",
              "  0.919700026512146,\n",
              "  0.9261999726295471,\n",
              "  0.9193999767303467,\n",
              "  0.9214000105857849,\n",
              "  0.9176999926567078],\n",
              " 'val_loss': [0.5323821902275085,\n",
              "  0.40170779824256897,\n",
              "  0.38871830701828003,\n",
              "  0.39052554965019226,\n",
              "  0.316049724817276,\n",
              "  0.29342520236968994,\n",
              "  0.2929898202419281,\n",
              "  0.2761926054954529,\n",
              "  0.2805076539516449,\n",
              "  0.2681712806224823,\n",
              "  0.26308518648147583,\n",
              "  0.2790764272212982,\n",
              "  0.24975448846817017,\n",
              "  0.24788324534893036,\n",
              "  0.27087458968162537,\n",
              "  0.2476082593202591,\n",
              "  0.2425602823495865,\n",
              "  0.24768200516700745,\n",
              "  0.24411149322986603,\n",
              "  0.2453683316707611,\n",
              "  0.2325638383626938,\n",
              "  0.2352585643529892,\n",
              "  0.2387142777442932,\n",
              "  0.26334020495414734,\n",
              "  0.2286958247423172,\n",
              "  0.24742639064788818,\n",
              "  0.234467014670372,\n",
              "  0.22333501279354095,\n",
              "  0.2298102080821991,\n",
              "  0.24298427999019623,\n",
              "  0.23373925685882568,\n",
              "  0.21708540618419647,\n",
              "  0.21840490400791168,\n",
              "  0.2343747615814209,\n",
              "  0.2305646538734436,\n",
              "  0.21496142446994781,\n",
              "  0.2148289978504181,\n",
              "  0.21528330445289612,\n",
              "  0.2090567648410797,\n",
              "  0.22831977903842926,\n",
              "  0.20762650668621063,\n",
              "  0.2132798582315445,\n",
              "  0.2291426956653595,\n",
              "  0.22727085649967194,\n",
              "  0.21797409653663635,\n",
              "  0.2767259180545807,\n",
              "  0.22159995138645172,\n",
              "  0.20883029699325562,\n",
              "  0.221885085105896,\n",
              "  0.22065739333629608,\n",
              "  0.22062461078166962]}"
            ]
          },
          "metadata": {
            "tags": []
          },
          "execution_count": 20
        }
      ]
    },
    {
      "cell_type": "code",
      "metadata": {
        "id": "lpGNSeWhGDZf"
      },
      "source": [
        "train_loss=history.history['loss']\n",
        "val_loss=history.history['val_loss']\n",
        "train_acc=history.history['accuracy']\n",
        "val_acc=history.history['val_accuracy']\n",
        "xc=range(57)\n",
        "\n",
        "plt.figure(1,figsize=(7,5))\n",
        "plt.plot(xc,train_loss)\n",
        "plt.plot(xc,val_loss)\n",
        "plt.xlabel('num of epochs')\n",
        "plt.ylabel('loss')\n",
        "plt.title('train vs val loss')\n",
        "plt.grid(True)\n",
        "print( plt.style.available)\n",
        "plt.style.use(['classic'])\n"
      ],
      "execution_count": null,
      "outputs": []
    },
    {
      "cell_type": "code",
      "metadata": {
        "id": "RiGgIcDjw20j"
      },
      "source": [
        "#def get_image(path):\n",
        "    #img = cv2.imread(path)\n",
        "    #eturn  cv2.resize(path, (28,28))\n",
        "    #img = cv2.cvtColor(img, cv2.COLOR_BGR2GRAY)\n",
        "    #img = cv2.resize(img, (28,28))\n",
        "    #img= img.reshape(-1,28,28,1)\n",
        "    #return  cv2.resize(img, (28,28))\n",
        "\n"
      ],
      "execution_count": null,
      "outputs": []
    },
    {
      "cell_type": "code",
      "metadata": {
        "id": "M4-y66i-0i0m"
      },
      "source": [
        "def prepare(filepath):\n",
        "     IMG_SIZE=28\n",
        "     img_array=cv2.imread(filepath,cv2.IMREAD_GRAYSCALE)\n",
        "     new_array= cv2.resize(img_array,(IMG_SIZE,IMG_SIZE))\n",
        "     nwe_array=img_array.astype('float32')/255\n",
        "     return new_array.reshape(-1,IMG_SIZE,IMG_SIZE,1)\n"
      ],
      "execution_count": null,
      "outputs": []
    },
    {
      "cell_type": "code",
      "metadata": {
        "id": "NYDehSYLwFUf"
      },
      "source": [
        "class_names = ['T-shirt/top', 'Trouser', 'Pullover', 'Dress', 'Coat',\n",
        "               'Sandal', 'Shirt', 'Sneaker', 'Bag', 'Ankle boot']"
      ],
      "execution_count": null,
      "outputs": []
    },
    {
      "cell_type": "code",
      "metadata": {
        "colab": {
          "resources": {
            "http://localhost:8080/nbextensions/google.colab/files.js": {
              "data": "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",
              "ok": true,
              "headers": [
                [
                  "content-type",
                  "application/javascript"
                ]
              ],
              "status": 200,
              "status_text": ""
            }
          },
          "base_uri": "https://localhost:8080/",
          "height": 73
        },
        "id": "s3OVZS4f1y3b",
        "outputId": "fa3a44c9-a15a-4616-ddb5-f3512ad499f2"
      },
      "source": [
        "from google.colab import files\n",
        "uploaded = files.upload()"
      ],
      "execution_count": null,
      "outputs": [
        {
          "output_type": "display_data",
          "data": {
            "text/html": [
              "\n",
              "     <input type=\"file\" id=\"files-126980ea-beff-40a7-ac11-9445bb83f8cf\" name=\"files[]\" multiple disabled\n",
              "        style=\"border:none\" />\n",
              "     <output id=\"result-126980ea-beff-40a7-ac11-9445bb83f8cf\">\n",
              "      Upload widget is only available when the cell has been executed in the\n",
              "      current browser session. Please rerun this cell to enable.\n",
              "      </output>\n",
              "      <script src=\"/nbextensions/google.colab/files.js\"></script> "
            ],
            "text/plain": [
              "<IPython.core.display.HTML object>"
            ]
          },
          "metadata": {
            "tags": []
          }
        },
        {
          "output_type": "stream",
          "text": [
            "Saving d3.jpg to d3.jpg\n"
          ],
          "name": "stdout"
        }
      ]
    },
    {
      "cell_type": "code",
      "metadata": {
        "colab": {
          "base_uri": "https://localhost:8080/"
        },
        "id": "shcAzsWP2GY2",
        "outputId": "65959c56-0c4a-4654-a108-40c146d498e3"
      },
      "source": [
        "#model.predict(prepare('0a30baec-1938-47c5-b495-68a51701b43d.jpg'))\n",
        "#model.predict(prepare('0add1694-17d0-46ec-a9fc-900da252af41.jpg'))\n",
        "model.predict(prepare('d3.jpg'))\n",
        "#model.predict(prepare('0a85a584-cb49-4795-b2f1-7eebbf09399a.jpg'))\n",
        "#model.predict(prepare('00e745c9-97d9-429d-8c3f-d3db7a2d2991.jpg'))"
      ],
      "execution_count": null,
      "outputs": [
        {
          "output_type": "execute_result",
          "data": {
            "text/plain": [
              "array([[0., 1., 0., 0., 0., 0., 0., 0., 0., 0.]], dtype=float32)"
            ]
          },
          "metadata": {
            "tags": []
          },
          "execution_count": 41
        }
      ]
    },
    {
      "cell_type": "code",
      "metadata": {
        "colab": {
          "base_uri": "https://localhost:8080/",
          "height": 37
        },
        "id": "LTgA0M3Cvwg2",
        "outputId": "26003640-5926-48c6-b4ee-b5fd09a3d54a"
      },
      "source": [
        "out_array=model.predict(prepare('d3.jpg'))\n",
        "index=np.argmax(out_array)\n",
        "class_names[index]"
      ],
      "execution_count": null,
      "outputs": [
        {
          "output_type": "execute_result",
          "data": {
            "application/vnd.google.colaboratory.intrinsic+json": {
              "type": "string"
            },
            "text/plain": [
              "'Trouser'"
            ]
          },
          "metadata": {
            "tags": []
          },
          "execution_count": 42
        }
      ]
    },
    {
      "cell_type": "code",
      "metadata": {
        "id": "bUYXT60axPrG"
      },
      "source": [
        "#plt.figure()\n",
        "#plt.imshow(get_image('2.jpg'))\n",
        "#plt.show()"
      ],
      "execution_count": null,
      "outputs": []
    },
    {
      "cell_type": "code",
      "metadata": {
        "colab": {
          "base_uri": "https://localhost:8080/",
          "height": 265
        },
        "id": "6pFao7rlGllX",
        "outputId": "3d48acdf-edb7-4967-ad76-c5ff950c1860"
      },
      "source": [
        "plt.figure()\n",
        "plt.imshow(get_image(x_test[111]))\n",
        "plt.show()"
      ],
      "execution_count": null,
      "outputs": [
        {
          "output_type": "display_data",
          "data": {
            "image/png": "[encoded data removed]",
            "text/plain": [
              "<Figure size 432x288 with 1 Axes>"
            ]
          },
          "metadata": {
            "tags": []
          }
        }
      ]
    },
    {
      "cell_type": "code",
      "metadata": {
        "colab": {
          "base_uri": "https://localhost:8080/"
        },
        "id": "pwPK7RyLHQeX",
        "outputId": "c5375946-3574-48de-e809-9b37efb8af29"
      },
      "source": [
        "predictions[111]"
      ],
      "execution_count": null,
      "outputs": [
        {
          "output_type": "execute_result",
          "data": {
            "text/plain": [
              "array([7.8248199e-14, 7.2981847e-21, 8.5465651e-17, 3.2194909e-23,\n",
              "       6.6176443e-23, 9.9999976e-01, 1.8851153e-19, 2.8177246e-07,\n",
              "       3.1107018e-13, 1.8026280e-13], dtype=float32)"
            ]
          },
          "metadata": {
            "tags": []
          },
          "execution_count": 266
        }
      ]
    },
    {
      "cell_type": "code",
      "metadata": {
        "id": "WvW54X1r29aA"
      },
      "source": [
        "#plt.figure()\n",
        "#plt.imshow(get_image('0b1cc7a6-be78-45e6-be22-2ad00b107328.jpg'))\n",
        "#plt.show()"
      ],
      "execution_count": null,
      "outputs": []
    },
    {
      "cell_type": "code",
      "metadata": {
        "id": "W84pxPrbwTIz",
        "colab": {
          "base_uri": "https://localhost:8080/"
        },
        "outputId": "390e58a7-c1c0-4bdd-a984-bb2c15b1fce7"
      },
      "source": [
        "!pip install pyyaml h5py  # Required to save models in HDF5 format"
      ],
      "execution_count": null,
      "outputs": [
        {
          "output_type": "stream",
          "text": [
            "Requirement already satisfied: pyyaml in /usr/local/lib/python3.6/dist-packages (3.13)\n",
            "Requirement already satisfied: h5py in /usr/local/lib/python3.6/dist-packages (2.10.0)\n",
            "Requirement already satisfied: numpy>=1.7 in /usr/local/lib/python3.6/dist-packages (from h5py) (1.19.5)\n",
            "Requirement already satisfied: six in /usr/local/lib/python3.6/dist-packages (from h5py) (1.15.0)\n"
          ],
          "name": "stdout"
        }
      ]
    },
    {
      "cell_type": "code",
      "metadata": {
        "id": "tQ_n8HOLwRvm"
      },
      "source": [
        "import torch\n",
        "from torchvision import datasets, models, transforms"
      ],
      "execution_count": null,
      "outputs": []
    },
    {
      "cell_type": "code",
      "metadata": {
        "id": "mgFBjdZE_3md"
      },
      "source": [
        ""
      ],
      "execution_count": null,
      "outputs": []
    }
  ]
}